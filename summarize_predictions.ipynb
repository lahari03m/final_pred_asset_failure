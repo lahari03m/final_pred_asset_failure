import json
from collections import Counter

# Load predictions.json
with open("predictions.json", "r") as f:
    predictions = json.load(f)

# Basic stats
total_assets = len(predictions)
asset_types = Counter([p["asset_type"] for p in predictions])
most_common_type, most_common_count = asset_types.most_common(1)[0]

avg_failure_days = sum([p["Days_to_Failure"] for p in predictions]) / total_assets if total_assets > 0 else 0

# Count failures
failures = Counter([p["failure_mode"] for p in predictions])
most_common_failure, failure_count = failures.most_common(1)[0]

# Build summary
top_summary = {
    "Total Assets Analyzed": total_assets,
    "Most Problematic Asset Type": most_common_type,
    "Most Frequent Failure Mode": most_common_failure,
    "Average Predicted Days to Failure": round(avg_failure_days, 2),
    "Asset Types Breakdown": dict(asset_types),
}

# Save summary JSON
with open("predictions_summary.json", "w") as f:
    json.dump(top_summary, f, indent=4)

print("✅ Summary saved to predictions_summary.json")
