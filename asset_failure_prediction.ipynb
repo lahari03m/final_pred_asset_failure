!pip install pandas scikit-learn transformers joblib

import pandas as pd
import numpy as np
import json
from sklearn.model_selection import train_test_split
from sklearn.ensemble import RandomForestRegressor
from sklearn.metrics import mean_absolute_error, r2_score
import joblib
from transformers import pipeline
from google.colab import files

user upload CSV file
uploaded = files.upload()
file_name = list(uploaded.keys())[0]
df = pd.read_csv(file_name)

for col in ["failure_mode", "root_cause"]:
    if col in df.columns:
        df[col] = df[col].fillna("No Failure")

# Feature selection
features = [
    "equipment_age_months", "last_maintenance_days", "downtime_hours",
    "temperature_reading", "vibration_level", "pressure_reading", "oil_condition"
]

df_ml = df.copy()
df_ml[features] = df_ml[features].fillna(df_ml[features].mean())

df_ml["days_to_failure"] = (
    100 - df_ml["equipment_age_months"]*0.5 - df_ml["downtime_hours"]*2
    - df_ml["vibration_level"]*3
).clip(lower=1)

X = df_ml[features]
y = df_ml["days_to_failure"]

X_train, X_test, y_train, y_test = train_test_split(X, y, test_size=0.2, random_state=42)

model = RandomForestRegressor(n_estimators=100, random_state=42)
model.fit(X_train, y_train)

y_pred = model.predict(X_test)
mae = mean_absolute_error(y_test, y_pred)
r2 = r2_score(y_test, y_pred)
accuracy = round((1 - mae / y.mean()) * 100, 2)

joblib.dump(model, "failure_model.pkl")

table_str = df_ml[['asset_id','asset_type','failure_mode','root_cause','equipment_age_months','last_maintenance_days','vibration_level','oil_condition']].head(10).to_string(index=False)

prompt = f"""
You are a senior maintenance engineer. Below is a table of asset data. For each asset, predict:

1. The most probable failure that will occur next (Problem).
2. The recommended corrective or preventive action (Solution).
3. The estimated number of days until the failure occurs.

Provide the output as a table with columns:
Asset ID | Asset Type | Problem | Solution | Estimated Days to Failure

Here is the data:

{table_str}

Rules:
- If Failure Mode or Root Cause is 'No Failure', mention 'No immediate failure expected' and suggest standard preventive maintenance.
- Otherwise, base the problem mainly on Failure Mode History and Root Cause.
- Consider Equipment Age, Last Maintenance Days, Vibration Level, and Oil Condition to estimate days to failure.
- Give practical, real-world maintenance solutions.
"""

text_gen = pipeline("text-generation", model="distilgpt2")

result = text_gen(prompt, max_length=300, num_return_sequences=1)[0]["generated_text"]

df_ml["Days_to_Failure"] = model.predict(df_ml[features]).astype(int)
predictions = df_ml[["asset_id", "asset_type", "failure_mode", "root_cause", "Days_to_Failure"]]

json_data = predictions.to_dict(orient="records")
with open("predictions.json", "w") as f:
    json.dump(json_data, f, indent=4)

print("✅ Predictions saved to predictions.json")
print(f"✅ ML Model Accuracy: {accuracy}%")
